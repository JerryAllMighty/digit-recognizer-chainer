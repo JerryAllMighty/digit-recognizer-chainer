{
 "cells": [
  {
   "cell_type": "code",
   "execution_count": 1,
   "metadata": {
    "_cell_guid": "1226adb1-5028-4d74-b012-fdb392344433",
    "_uuid": "ce85206642a8003dbe48fe2d4be83f502ff14825",
    "collapsed": true,
    "jupyter": {
     "outputs_hidden": true
    }
   },
   "outputs": [
    {
     "name": "stdout",
     "output_type": "stream",
     "text": [
      "epoch       main/loss   main/accuracy\n",
      "\u001b[J1           2.32633     0.805452       \n",
      "\u001b[J2           0.45455     0.894762       \n",
      "\u001b[J3           0.327081    0.920905       \n",
      "\u001b[J4           0.261669    0.93619        \n",
      "\u001b[J5           0.198864    0.95019        \n"
     ]
    }
   ],
   "source": [
    "# -*- coding: utf-8 -*-\n",
    "import chainer\n",
    "import chainer.functions as F\n",
    "import chainer.links as L\n",
    "import numpy as np\n",
    "import pandas as pd\n",
    "\n",
    "class NeuralNet(chainer.Chain):\n",
    "    def __init__(self):\n",
    "        super(NeuralNet, self).__init__()\n",
    "        with self.init_scope():\n",
    "            self.layer1 = L.Linear(None, 100)\n",
    "            self.layer2 = L.Linear(100, 100)\n",
    "            self.layer3 = L.Linear(100, 10)\n",
    "    def __call__(self, x):\n",
    "        x = self.layer1(F.relu(x))\n",
    "        x = self.layer2(F.relu(x))\n",
    "        x = self.layer3(F.relu(x))\n",
    "        return x\n",
    "\n",
    "df = pd.read_csv('../input/train.csv')\n",
    "X = df[df.columns[1:]].astype(np.float32).values\n",
    "Y = df[df.columns[0]].values\n",
    "\n",
    "nn = NeuralNet()\n",
    "model = L.Classifier(nn)\n",
    "\n",
    "train_iter = chainer.iterators.SerialIterator([(X[i],Y[i]) for i in range(len(X))], 200, shuffle=True)\n",
    "optimizer = chainer.optimizers.AdaDelta()\n",
    "optimizer.setup(model)\n",
    "updater = chainer.training.StandardUpdater(train_iter, optimizer, device=-1)\n",
    "trainer = chainer.training.Trainer(updater, (5, 'epoch'), out=\"result\")\n",
    "trainer.extend(chainer.training.extensions.LogReport())\n",
    "trainer.extend(chainer.training.extensions.PrintReport(['epoch','main/loss','main/accuracy']))\n",
    "trainer.run()\n",
    "\n",
    "df = pd.read_csv('../input/test.csv')\n",
    "df.head()\n",
    "result = nn(df.astype(np.float32).values)\n",
    "result = [np.argmax(x) for x in result.data]\n",
    "df = pd.DataFrame({'ImageId': range(1,len(result)+1),'Label': result})\n",
    "df.to_csv('submission.csv', index=False)"
   ]
  }
 ],
 "metadata": {
  "kernelspec": {
   "display_name": "Python 3",
   "language": "python",
   "name": "python3"
  },
  "language_info": {
   "codemirror_mode": {
    "name": "ipython",
    "version": 3
   },
   "file_extension": ".py",
   "mimetype": "text/x-python",
   "name": "python",
   "nbconvert_exporter": "python",
   "pygments_lexer": "ipython3",
   "version": "3.6.4"
  }
 },
 "nbformat": 4,
 "nbformat_minor": 4
}
